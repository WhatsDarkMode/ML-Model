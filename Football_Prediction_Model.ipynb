{
 "cells": [
  {
   "cell_type": "code",
   "execution_count": 7,
   "metadata": {},
   "outputs": [],
   "source": [
    "import pandas as pd\n",
    "from sklearn.ensemble import RandomForestClassifier, RandomForestRegressor"
   ]
  },
  {
   "cell_type": "code",
   "execution_count": 8,
   "metadata": {},
   "outputs": [],
   "source": [
    "def calculate_team_statistic(player_ids, stat_dict):\n",
    "    valid_player_ids = [player_id for player_id in player_ids if player_id != 0]\n",
    "    if valid_player_ids:\n",
    "        return sum(stat_dict.get(player_id, 0) for player_id in valid_player_ids) / len(valid_player_ids)\n",
    "    else:\n",
    "        return 0\n",
    "    \n",
    "def playeravg_features(training_set):\n",
    "    player_stats = {}\n",
    "    df = training_set\n",
    "\n",
    "    # Iterate over each match to collect player statistics\n",
    "    for index, row in df.iterrows():\n",
    "        # Extract player IDs for both teams\n",
    "        team1_players = [player_id for player_id in row[['Team 1 P1', 'Team 1 P2', 'Team 1 P3', 'Team 1 P4', 'Team 1 P5', 'Team 1 P6', 'Team 1 P7', 'Team 1 P8']] if player_id != 0]\n",
    "        team2_players = [player_id for player_id in row[['Team 2 P1', 'Team 2 P2', 'Team 2 P3', 'Team 2 P4', 'Team 2 P5', 'Team 2 P6', 'Team 2 P7', 'Team 2 P8']] if player_id != 0]\n",
    "\n",
    "        for player_id in team1_players:\n",
    "            player_stats[player_id] = player_stats.get(player_id, {\"matches_played\": 0, \"matches_won\": 0, \"total_GS\": 0, \"total_GC\": 0})\n",
    "            player_stats[player_id][\"matches_played\"] += 1\n",
    "            player_stats[player_id][\"total_GS\"] += row['Team 1 Goals']\n",
    "            player_stats[player_id][\"total_GC\"] += row['Team 2 Goals']\n",
    "            if row['Team 1 Result'] == 1:  # Team 1 won\n",
    "                player_stats[player_id][\"matches_won\"] += 1\n",
    "\n",
    "        for player_id in team2_players:\n",
    "            player_stats[player_id] = player_stats.get(player_id, {\"matches_played\": 0, \"matches_won\": 0, \"total_GS\": 0, \"total_GC\": 0})\n",
    "            player_stats[player_id][\"matches_played\"] += 1\n",
    "            player_stats[player_id][\"total_GS\"] += row['Team 2 Goals']\n",
    "            player_stats[player_id][\"total_GC\"] += row['Team 1 Goals']\n",
    "            if row['Team 2 Result'] == 1:  # Team 2 won\n",
    "                player_stats[player_id][\"matches_won\"] += 1\n",
    "    \n",
    "    # Calculate win percentage, average goals, and average goals conceded for each player\n",
    "    win_percentage_dict = {}\n",
    "    avg_GS_dict = {}\n",
    "    avg_GC_dict = {}\n",
    "\n",
    "    for player_id, stats in player_stats.items():\n",
    "        win_percentage_dict[player_id] = (stats[\"matches_won\"] / stats[\"matches_played\"]) * 100 if stats[\"matches_played\"] > 0 else 0\n",
    "        avg_GS_dict[player_id] = stats[\"total_GS\"] / stats[\"matches_played\"]\n",
    "        avg_GC_dict[player_id] = stats[\"total_GC\"] / stats[\"matches_played\"]\n",
    "    \n",
    "    return win_percentage_dict, avg_GS_dict, avg_GC_dict\n",
    "\n",
    "def create_testdataset(team1_players, team2_players, player_id_dict):\n",
    "    # Create DataFrame for the match\n",
    "    match_data = pd.DataFrame(columns=['Match ID', 'Team 1 P1', 'Team 1 P2', 'Team 1 P3', 'Team 1 P4', 'Team 1 P5', 'Team 1 P6', 'Team 1 P7', 'Team 1 P8',\n",
    "                                        'Team 2 P1', 'Team 2 P2', 'Team 2 P3', 'Team 2 P4', 'Team 2 P5', 'Team 2 P6', 'Team 2 P7', 'Team 2 P8',\n",
    "                                        'Team 1 Goals', 'Team 2 Goals', 'Team 1 Result', 'Team 2 Result'])\n",
    "\n",
    "    # Assign players for Team 1\n",
    "    for i, player in enumerate(team1_players):\n",
    "        match_data.at[0, f'Team 1 P{i+1}'] = player\n",
    "\n",
    "    # Assign players for Team 2\n",
    "    for i, player in enumerate(team2_players):\n",
    "        match_data.at[0, f'Team 2 P{i+1}'] = player\n",
    "\n",
    "    match_data.fillna(0, inplace=True)\n",
    "\n",
    "    # Replace player names with player IDs\n",
    "    for column in match_data.columns:\n",
    "        if column.startswith('Team 1 P') or column.startswith('Team 2 P'):\n",
    "            match_data[column] = match_data[column].apply(lambda x: player_id_dict.get(x, x))\n",
    "    \n",
    "    return match_data\n",
    "\n",
    "def apply_playerfeatures (win_percentage_dict, avg_GS_dict, avg_GC_dict, dataset):\n",
    "    df = dataset\n",
    "    for index, row in df.iterrows():\n",
    "        df['team1_win_percentage'] = df.apply(lambda row: calculate_team_statistic(row[['Team 1 P1', 'Team 1 P2', 'Team 1 P3', 'Team 1 P4', 'Team 1 P5', 'Team 1 P6', 'Team 1 P7', 'Team 1 P8']], win_percentage_dict), axis=1)\n",
    "        df['team2_win_percentage'] = df.apply(lambda row: calculate_team_statistic(row[['Team 2 P1', 'Team 2 P2', 'Team 2 P3', 'Team 2 P4', 'Team 2 P5', 'Team 2 P6', 'Team 2 P7', 'Team 2 P8']], win_percentage_dict), axis=1)\n",
    "        df['team1_avg_goals'] = df.apply(lambda row: calculate_team_statistic(row[['Team 1 P1', 'Team 1 P2', 'Team 1 P3', 'Team 1 P4', 'Team 1 P5', 'Team 1 P6', 'Team 1 P7', 'Team 1 P8']], avg_GS_dict), axis=1)\n",
    "        df['team2_avg_goals'] = df.apply(lambda row: calculate_team_statistic(row[['Team 2 P1', 'Team 2 P2', 'Team 2 P3', 'Team 2 P4', 'Team 2 P5', 'Team 2 P6', 'Team 2 P7', 'Team 2 P8']], avg_GS_dict), axis=1)\n",
    "        df['team1_avg_goalsconceded'] = df.apply(lambda row: calculate_team_statistic(row[['Team 1 P1', 'Team 1 P2', 'Team 1 P3', 'Team 1 P4', 'Team 1 P5', 'Team 1 P6', 'Team 1 P7', 'Team 1 P8']], avg_GC_dict), axis=1)\n",
    "        df['team2_avg_goalsconceded'] = df.apply(lambda row: calculate_team_statistic(row[['Team 2 P1', 'Team 2 P2', 'Team 2 P3', 'Team 2 P4', 'Team 2 P5', 'Team 2 P6', 'Team 2 P7', 'Team 2 P8']], avg_GC_dict), axis=1)\n",
    "\n",
    "    columns_to_convert = ['team1_win_percentage', 'team2_win_percentage', 'team1_avg_goals', 'team2_avg_goals', 'team1_avg_goalsconceded', 'team2_avg_goalsconceded']\n",
    "    df[columns_to_convert] = df[columns_to_convert].astype('float64')\n",
    "    \n",
    "    return df"
   ]
  },
  {
   "cell_type": "code",
   "execution_count": 9,
   "metadata": {},
   "outputs": [],
   "source": [
    "training_dataset = pd.read_csv(\"ML_Data_Set.csv\")\n",
    "player_ids = pd.read_csv(\"Player keys.csv\")"
   ]
  },
  {
   "cell_type": "code",
   "execution_count": 10,
   "metadata": {},
   "outputs": [],
   "source": [
    "#Who are the teams you want to run through the model?\n",
    "team1_players = ['Waq', 'Jamie', 'Saeed', 'Sam', 'Jason', 'Yusuf', 'Carlos', 'Mo.O']\n",
    "team2_players = ['Saqi', 'Jake', 'Satpal', 'Ashley', 'Shyam', 'Riz', 'Gergo', 'Saj']"
   ]
  },
  {
   "cell_type": "code",
   "execution_count": 11,
   "metadata": {},
   "outputs": [],
   "source": [
    "player_id_dict = dict(zip(player_ids['player name'], player_ids['player_ID']))\n",
    "\n",
    "test_dataset = create_testdataset(team1_players, team2_players, player_id_dict)\n",
    "\n",
    "win_percentage_dict, avg_GS_dict, avg_GC_dict = playeravg_features(training_dataset)"
   ]
  },
  {
   "cell_type": "code",
   "execution_count": 12,
   "metadata": {},
   "outputs": [],
   "source": [
    "clf = RandomForestClassifier()\n",
    "reg_team1 = RandomForestRegressor()\n",
    "reg_team2 = RandomForestRegressor()\n",
    "\n",
    "def training_clf(training_dataset):\n",
    "    df = apply_playerfeatures(win_percentage_dict, avg_GS_dict, avg_GC_dict, training_dataset)\n",
    "    df = df.select_dtypes(exclude=['object']) \n",
    "    df[\"Team 1 Win\"] = df[\"Team 1 Result\"].apply(lambda x: 1 if x == 1 else 0)\n",
    "    x_clf = df.drop([\"Team 1 Result\", \"Team 2 Result\", \"Team 1 Win\", \"Team 1 Goals\", \"Team 2 Goals\"], axis=1)\n",
    "    y_clf = df[\"Team 1 Win\"]\n",
    "    clf.fit(x_clf, y_clf)\n",
    "    return\n",
    "\n",
    "def training_rfg(training_dataset):\n",
    "    df = apply_playerfeatures(win_percentage_dict, avg_GS_dict, avg_GC_dict, training_dataset)\n",
    "    df = df.select_dtypes(exclude=['object']) \n",
    "    x_reg = df.drop([\"Team 1 Result\", \"Team 2 Result\", \"Team 1 Goals\", \"Team 2 Goals\"], axis=1)\n",
    "    y_reg_team1 = df[\"Team 1 Goals\"]\n",
    "    y_reg_team2 = df[\"Team 2 Goals\"] \n",
    "    reg_team1.fit(x_reg, y_reg_team1)\n",
    "    reg_team2.fit(x_reg, y_reg_team2)\n",
    "    return\n",
    "\n",
    "def predict_scores(test_dataset):\n",
    "    df = apply_playerfeatures(win_percentage_dict, avg_GS_dict, avg_GC_dict, test_dataset)\n",
    "    df = df.select_dtypes(exclude=['object'])\n",
    "    x_test = df.drop([\"Team 1 Result\", \"Team 2 Result\", \"Team 1 Goals\", \"Team 2 Goals\"], axis=1)\n",
    "    team1_goals = reg_team1.predict(x_test)\n",
    "    team2_goals = reg_team2.predict(x_test)\n",
    "    team1_win = clf.predict(x_test)\n",
    "    return team1_goals, team2_goals, team1_win\n",
    "\n",
    "training_clf(training_dataset)\n",
    "training_rfg(training_dataset)\n",
    "team1_goals, team2_goals, team1_win = predict_scores(test_dataset)"
   ]
  },
  {
   "cell_type": "code",
   "execution_count": 13,
   "metadata": {},
   "outputs": [
    {
     "name": "stdout",
     "output_type": "stream",
     "text": [
      "Predicted Goals:\n",
      "Team 1: [10.4]\n",
      "Team 2: [4.84]\n",
      "\n",
      "Predicted Results:\n",
      "Team 1\n"
     ]
    }
   ],
   "source": [
    "# Print predicted goals\n",
    "print(\"Predicted Goals:\")\n",
    "print(\"Team 1:\", team1_goals)\n",
    "print(\"Team 2:\", team2_goals)\n",
    "print(\"\\nPredicted Results:\")\n",
    "if team1_win == 1:\n",
    "    print(\"Team 1\")\n",
    "else:\n",
    "    print(\"Team 2\")"
   ]
  }
 ],
 "metadata": {
  "kernelspec": {
   "display_name": "Python 3",
   "language": "python",
   "name": "python3"
  },
  "language_info": {
   "codemirror_mode": {
    "name": "ipython",
    "version": 3
   },
   "file_extension": ".py",
   "mimetype": "text/x-python",
   "name": "python",
   "nbconvert_exporter": "python",
   "pygments_lexer": "ipython3",
   "version": "3.9.13"
  },
  "orig_nbformat": 4
 },
 "nbformat": 4,
 "nbformat_minor": 2
}
